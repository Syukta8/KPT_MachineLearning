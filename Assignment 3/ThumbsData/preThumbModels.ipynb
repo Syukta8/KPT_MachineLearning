{
 "cells": [
  {
   "cell_type": "code",
   "execution_count": 1,
   "id": "9c5e4b8c",
   "metadata": {
    "scrolled": false
   },
   "outputs": [],
   "source": [
    "import torch\n",
    "import torchvision\n",
    "import torch.nn as nn\n",
    "import torch.nn.functional as F\n",
    "import torch.optim as optim\n",
    "import time\n",
    "import numpy as np\n",
    "import matplotlib.pyplot as plt\n",
    "import os\n",
    "import cv2\n",
    "import glob\n",
    "import numpy\n",
    "import random\n",
    "\n",
    "from PIL import Image\n",
    "from torch.utils.data import Dataset\n",
    "from torch.utils.data import DataLoader\n",
    "from torchvision import datasets, models, transforms\n",
    "from torchsummary import summary\n",
    "\n",
    "from sklearn.metrics import confusion_matrix\n",
    "import seaborn as sn\n",
    "import pandas as pd"
   ]
  },
  {
   "cell_type": "code",
   "execution_count": 2,
   "id": "a436a4bd",
   "metadata": {},
   "outputs": [
    {
     "data": {
      "text/plain": [
       "True"
      ]
     },
     "execution_count": 2,
     "metadata": {},
     "output_type": "execute_result"
    }
   ],
   "source": [
    "torch.cuda.is_available()"
   ]
  },
  {
   "cell_type": "code",
   "execution_count": 3,
   "id": "6e3f3fdb",
   "metadata": {},
   "outputs": [],
   "source": [
    "# Applying Transforms to the Data\n",
    "import torchvision\n",
    "import torchvision.transforms as transforms\n",
    "\n",
    "image_transforms = {\n",
    "    'train': transforms.Compose([\n",
    "        transforms.RandomResizedCrop(size=256, scale=(0.8, 1.0)),\n",
    "        transforms.RandomRotation(degrees=15),\n",
    "        transforms.RandomHorizontalFlip(),\n",
    "        transforms.CenterCrop(size=224),\n",
    "        transforms.ToTensor(),\n",
    "        transforms.Normalize([0.485, 0.456, 0.406],\n",
    "                             [0.229, 0.224, 0.225])\n",
    "    ]),\n",
    "    'test': transforms.Compose([\n",
    "        transforms.Resize(size=256),\n",
    "        transforms.CenterCrop(size=224),\n",
    "        transforms.ToTensor(),\n",
    "        transforms.Normalize([0.485, 0.456, 0.406],\n",
    "                             [0.229, 0.224, 0.225])\n",
    "    ])\n",
    "}"
   ]
  },
  {
   "cell_type": "code",
   "execution_count": 4,
   "id": "b95301de",
   "metadata": {},
   "outputs": [
    {
     "name": "stdout",
     "output_type": "stream",
     "text": [
      "{0: 'down', 1: 'up'}\n",
      "['down', 'up']\n"
     ]
    }
   ],
   "source": [
    "# Load the Data\n",
    "\n",
    "# Set train and valid directory paths\n",
    "\n",
    "# dataset = '/content/drive/My Drive/01. TEACHING/MACHINE_VISION/code/fruit_dataset'\n",
    "dataset = 'C:/Users/fixer/Music/KPT Projek/Assignment 3/ThumbsData/'\n",
    "\n",
    "train_directory = os.path.join(dataset, 'train')\n",
    "test_directory = os.path.join(dataset, 'validation')\n",
    "\n",
    "# Batch size\n",
    "batchSize = 32\n",
    "\n",
    "# Number of classes\n",
    "num_classes = len(os.listdir(train_directory))\n",
    "#print(num_classes)\n",
    "\n",
    "# Load Data from folders\n",
    "data = {\n",
    "    'train': datasets.ImageFolder(root=train_directory, transform=image_transforms['train']),\n",
    "\n",
    "    'test': datasets.ImageFolder(root=test_directory, transform=image_transforms['test'])\n",
    "}\n",
    "\n",
    "# Get a mapping of the indices to the class names, in order to see the output classes of the test images.\n",
    "idx_to_class = {v: k for k, v in data['train'].class_to_idx.items()}\n",
    "print(idx_to_class)\n",
    "\n",
    "classes = os.listdir(train_directory)\n",
    "\n",
    "print(classes)"
   ]
  },
  {
   "cell_type": "code",
   "execution_count": 5,
   "id": "dd60aaf0",
   "metadata": {},
   "outputs": [],
   "source": [
    "# Size of Data, to be used for calculating Average Loss and Accuracy\n",
    "train_data_size = len(data['train'])\n",
    "# valid_data_size = len(data['valid'])\n",
    "test_data_size = len(data['test'])\n",
    "\n",
    "# Create iterators for the Data loaded using DataLoader module\n",
    "train_data_loader = DataLoader(data['train'], batch_size=batchSize, shuffle=True)\n",
    "# valid_data_loader = DataLoader(data['valid'], batch_size=batchSize, shuffle=True)\n",
    "test_data_loader = DataLoader(data['test'], batch_size=batchSize, shuffle=True)"
   ]
  },
  {
   "cell_type": "code",
   "execution_count": 6,
   "id": "eb453dd4",
   "metadata": {},
   "outputs": [
    {
     "name": "stdout",
     "output_type": "stream",
     "text": [
      "1484\n",
      "324\n"
     ]
    }
   ],
   "source": [
    "#######################################################\n",
    "#                  Create Dataloader                     #\n",
    "#######################################################\n",
    "\n",
    "# Turn train and test custom Dataset's into DataLoader's\n",
    "from torch.utils.data import DataLoader\n",
    "trainloader = DataLoader(dataset=data['train'], # use custom created train Dataset\n",
    "                                     batch_size=4, # how many samples per batch?\n",
    "                                     num_workers=2, # how many subprocesses to use for data loading? (higher = more)\n",
    "                                     shuffle=True) # shuffle the data?\n",
    "\n",
    "testloader = DataLoader(dataset=data['test'], # use custom created test Dataset\n",
    "                                    batch_size=4, \n",
    "                                    num_workers=2, \n",
    "                                    shuffle=False) # don't usually need to shuffle testing data\n",
    "\n",
    "train_data_size = len(trainloader.dataset)\n",
    "test_data_size = len(testloader.dataset)\n",
    "\n",
    "print(train_data_size)\n",
    "print(test_data_size)"
   ]
  },
  {
   "cell_type": "code",
   "execution_count": 7,
   "id": "05bcd1b7",
   "metadata": {},
   "outputs": [],
   "source": [
    "import time # to calculate training time\n",
    "\n",
    "def train_and_validate(model, loss_criterion, optimizer, epochs):\n",
    "    '''\n",
    "    Function to train and validate\n",
    "    Parameters\n",
    "        :param model: Model to train and validate\n",
    "        :param loss_criterion: Loss Criterion to minimize\n",
    "        :param optimizer: Optimizer for computing gradients\n",
    "        :param epochs: Number of epochs (default=25)\n",
    "  \n",
    "    Returns\n",
    "        model: Trained Model with best validation accuracy\n",
    "        history: (dict object): Having training loss, accuracy and validation loss, accuracy\n",
    "    '''\n",
    "    \n",
    "    start = time.time()\n",
    "    history = []\n",
    "    best_acc = 0.0\n",
    "\n",
    "    for epoch in range(epochs):\n",
    "        epoch_start = time.time()\n",
    "        print(\"Epoch: {}/{}\".format(epoch+1, epochs))\n",
    "        \n",
    "        # Set to training mode\n",
    "        model.train()\n",
    "        \n",
    "        # Loss and Accuracy within the epoch\n",
    "        train_loss = 0.0\n",
    "        train_acc = 0.0\n",
    "        \n",
    "        valid_loss = 0.0\n",
    "        valid_acc = 0.0\n",
    "        \n",
    "        for i, (inputs, labels) in enumerate(trainloader):\n",
    "\n",
    "            inputs = inputs.to(device)\n",
    "            labels = labels.to(device)\n",
    "            \n",
    "            # Clean existing gradients\n",
    "            optimizer.zero_grad()\n",
    "            \n",
    "            # Forward pass - compute outputs on input data using the model\n",
    "            outputs = model(inputs)\n",
    "            \n",
    "            # Compute loss\n",
    "            loss = loss_criterion(outputs, labels)\n",
    "            \n",
    "            # Backpropagate the gradients\n",
    "            loss.backward()\n",
    "            \n",
    "            # Update the parameters\n",
    "            optimizer.step()\n",
    "            \n",
    "            # Compute the total loss for the batch and add it to train_loss\n",
    "            train_loss += loss.item() * inputs.size(0)\n",
    "            \n",
    "            # Compute the accuracy\n",
    "            ret, predictions = torch.max(outputs.data, 1)\n",
    "            correct_counts = predictions.eq(labels.data.view_as(predictions))\n",
    "            \n",
    "            # Convert correct_counts to float and then compute the mean\n",
    "            acc = torch.mean(correct_counts.type(torch.FloatTensor))\n",
    "            \n",
    "            # Compute total accuracy in the whole batch and add to train_acc\n",
    "            train_acc += acc.item() * inputs.size(0)\n",
    "            \n",
    "            #print(\"Batch number: {:03d}, Training: Loss: {:.4f}, Accuracy: {:.4f}\".format(i, loss.item(), acc.item()))\n",
    "\n",
    "            \n",
    "        # Validation - No gradient tracking needed\n",
    "        with torch.no_grad():\n",
    "\n",
    "            # Set to evaluation mode\n",
    "            model.eval()\n",
    "\n",
    "            # Validation loop\n",
    "            for j, (inputs, labels) in enumerate(testloader):\n",
    "                inputs = inputs.to(device)\n",
    "                labels = labels.to(device)\n",
    "\n",
    "                # Forward pass - compute outputs on input data using the model\n",
    "                outputs = model(inputs)\n",
    "\n",
    "                # Compute loss\n",
    "                loss = loss_criterion(outputs, labels)\n",
    "\n",
    "                # Compute the total loss for the batch and add it to valid_loss\n",
    "                valid_loss += loss.item() * inputs.size(0)\n",
    "\n",
    "                # Calculate validation accuracy\n",
    "                ret, predictions = torch.max(outputs.data, 1)\n",
    "                correct_counts = predictions.eq(labels.data.view_as(predictions))\n",
    "\n",
    "                # Convert correct_counts to float and then compute the mean\n",
    "                acc = torch.mean(correct_counts.type(torch.FloatTensor))\n",
    "\n",
    "                # Compute total accuracy in the whole batch and add to valid_acc\n",
    "                valid_acc += acc.item() * inputs.size(0)\n",
    "\n",
    "                #print(\"Validation Batch number: {:03d}, Validation: Loss: {:.4f}, Accuracy: {:.4f}\".format(j, loss.item(), acc.item()))\n",
    "            \n",
    "        # Find average training loss and training accuracy\n",
    "        avg_train_loss = train_loss/train_data_size \n",
    "        avg_train_acc = train_acc/train_data_size\n",
    "\n",
    "        # Find average training loss and training accuracy\n",
    "        avg_test_loss = valid_loss/test_data_size \n",
    "        avg_test_acc = valid_acc/test_data_size\n",
    "\n",
    "        history.append([avg_train_loss, avg_test_loss, avg_train_acc, avg_test_acc])\n",
    "                \n",
    "        epoch_end = time.time()\n",
    "    \n",
    "        print(\"Epoch : {:03d}, Training: Loss: {:.4f}, Accuracy: {:.4f}%, \\n\\t\\tValidation : Loss : {:.4f}, Accuracy: {:.4f}%, Time: {:.4f}s\".format(epoch, avg_train_loss, avg_train_acc*100, avg_test_loss, avg_test_acc*100, epoch_end-epoch_start))\n",
    "        \n",
    "        # Save if the model has best accuracy till now\n",
    "        torch.save(model,'C:/Users/fixer/Music/KPT Projek/Assignment 3/ThumbsData/epoch/'+'thumbs_model_'+str(epoch)+'.pt')\n",
    "            \n",
    "    return model, history"
   ]
  },
  {
   "cell_type": "code",
   "execution_count": 8,
   "id": "87ebde5c",
   "metadata": {},
   "outputs": [
    {
     "name": "stdout",
     "output_type": "stream",
     "text": [
      "cuda:0\n"
     ]
    }
   ],
   "source": [
    "# 1. Define device\n",
    "device = torch.device('cuda:0' if torch.cuda.is_available() else 'cpu')\n",
    "print(device)"
   ]
  },
  {
   "cell_type": "code",
   "execution_count": 9,
   "id": "da000980",
   "metadata": {
    "scrolled": true
   },
   "outputs": [
    {
     "name": "stderr",
     "output_type": "stream",
     "text": [
      "C:\\Users\\fixer\\.conda\\envs\\CUDA\\lib\\site-packages\\torchvision\\models\\_utils.py:208: UserWarning: The parameter 'pretrained' is deprecated since 0.13 and will be removed in 0.15, please use 'weights' instead.\n",
      "  warnings.warn(\n",
      "C:\\Users\\fixer\\.conda\\envs\\CUDA\\lib\\site-packages\\torchvision\\models\\_utils.py:223: UserWarning: Arguments other than a weight enum or `None` for 'weights' are deprecated since 0.13 and will be removed in 0.15. The current behavior is equivalent to passing `weights=ResNet18_Weights.IMAGENET1K_V1`. You can also use `weights=ResNet18_Weights.DEFAULT` to get the most up-to-date weights.\n",
      "  warnings.warn(msg)\n"
     ]
    },
    {
     "name": "stdout",
     "output_type": "stream",
     "text": [
      "512\n"
     ]
    }
   ],
   "source": [
    "#2. model baru\n",
    "model_conv = torchvision.models.resnet18(pretrained=True)\n",
    "#print(model_conv)\n",
    "for param in model_conv.parameters():\n",
    "    param.requires_grad = False\n",
    "\n",
    "#Parameters of newly constructed modules have requires_grad=True by default\n",
    "num_ftrs = model_conv.fc.in_features\n",
    "print(num_ftrs)\n",
    "model_conv.fc = nn.Sequential(nn.Linear(num_ftrs, (num_ftrs//2)), nn.Tanh(),\n",
    "                            nn.Linear((num_ftrs//2), (num_ftrs//4)), nn.Tanh(),\n",
    "                            nn.Linear((num_ftrs//4), (num_ftrs//8)), nn.Tanh(),\n",
    "                            nn.Linear((num_ftrs//8), (num_ftrs//16)), nn.Tanh(),\n",
    "                            nn.Linear((num_ftrs//16),num_classes)\n",
    "                            )\n",
    "\n",
    "model_conv = model_conv.to(device)\n",
    "torch.cuda.empty_cache()"
   ]
  },
  {
   "cell_type": "code",
   "execution_count": 10,
   "id": "924cc673",
   "metadata": {},
   "outputs": [],
   "source": [
    "# 3. LOSS AND OPTIMIZER\n",
    "criterion = nn.CrossEntropyLoss()\n",
    "optimizer = optim.SGD(model_conv.parameters(), lr=0.001, momentum=0.9)"
   ]
  },
  {
   "cell_type": "code",
   "execution_count": 11,
   "id": "df97bbe8",
   "metadata": {
    "scrolled": false
   },
   "outputs": [
    {
     "name": "stdout",
     "output_type": "stream",
     "text": [
      "Epoch: 1/30\n",
      "Epoch : 000, Training: Loss: 0.6733, Accuracy: 57.8841%, \n",
      "\t\tValidation : Loss : 0.6363, Accuracy: 66.6667%, Time: 77.6083s\n",
      "Epoch: 2/30\n",
      "Epoch : 001, Training: Loss: 0.5461, Accuracy: 75.4717%, \n",
      "\t\tValidation : Loss : 0.4303, Accuracy: 83.0247%, Time: 77.3968s\n",
      "Epoch: 3/30\n",
      "Epoch : 002, Training: Loss: 0.4526, Accuracy: 78.3693%, \n",
      "\t\tValidation : Loss : 0.4251, Accuracy: 81.1728%, Time: 77.1509s\n",
      "Epoch: 4/30\n",
      "Epoch : 003, Training: Loss: 0.3937, Accuracy: 81.6712%, \n",
      "\t\tValidation : Loss : 0.4525, Accuracy: 77.1605%, Time: 79.3520s\n",
      "Epoch: 5/30\n",
      "Epoch : 004, Training: Loss: 0.3849, Accuracy: 82.3450%, \n",
      "\t\tValidation : Loss : 0.3316, Accuracy: 87.6543%, Time: 76.2099s\n",
      "Epoch: 6/30\n",
      "Epoch : 005, Training: Loss: 0.4153, Accuracy: 81.8733%, \n",
      "\t\tValidation : Loss : 0.3428, Accuracy: 85.4938%, Time: 77.4587s\n",
      "Epoch: 7/30\n",
      "Epoch : 006, Training: Loss: 0.3810, Accuracy: 82.5472%, \n",
      "\t\tValidation : Loss : 0.3510, Accuracy: 83.9506%, Time: 78.6467s\n",
      "Epoch: 8/30\n",
      "Epoch : 007, Training: Loss: 0.3761, Accuracy: 82.6146%, \n",
      "\t\tValidation : Loss : 0.3399, Accuracy: 85.1852%, Time: 81.8565s\n",
      "Epoch: 9/30\n",
      "Epoch : 008, Training: Loss: 0.3564, Accuracy: 83.6253%, \n",
      "\t\tValidation : Loss : 0.3586, Accuracy: 81.1728%, Time: 80.5512s\n",
      "Epoch: 10/30\n",
      "Epoch : 009, Training: Loss: 0.3617, Accuracy: 83.8949%, \n",
      "\t\tValidation : Loss : 0.3357, Accuracy: 84.8765%, Time: 81.5660s\n",
      "Epoch: 11/30\n",
      "Epoch : 010, Training: Loss: 0.3397, Accuracy: 84.4340%, \n",
      "\t\tValidation : Loss : 0.3954, Accuracy: 81.4815%, Time: 80.2958s\n",
      "Epoch: 12/30\n",
      "Epoch : 011, Training: Loss: 0.2990, Accuracy: 87.1968%, \n",
      "\t\tValidation : Loss : 0.2747, Accuracy: 87.9630%, Time: 84.9222s\n",
      "Epoch: 13/30\n",
      "Epoch : 012, Training: Loss: 0.3102, Accuracy: 86.3208%, \n",
      "\t\tValidation : Loss : 0.3462, Accuracy: 84.8765%, Time: 83.2094s\n",
      "Epoch: 14/30\n",
      "Epoch : 013, Training: Loss: 0.3138, Accuracy: 86.1860%, \n",
      "\t\tValidation : Loss : 0.3244, Accuracy: 85.4938%, Time: 82.8744s\n",
      "Epoch: 15/30\n",
      "Epoch : 014, Training: Loss: 0.2855, Accuracy: 87.3315%, \n",
      "\t\tValidation : Loss : 0.3385, Accuracy: 84.2593%, Time: 84.2382s\n",
      "Epoch: 16/30\n",
      "Epoch : 015, Training: Loss: 0.2895, Accuracy: 87.4663%, \n",
      "\t\tValidation : Loss : 0.4614, Accuracy: 77.7778%, Time: 79.4922s\n",
      "Epoch: 17/30\n",
      "Epoch : 016, Training: Loss: 0.2898, Accuracy: 86.8598%, \n",
      "\t\tValidation : Loss : 0.3999, Accuracy: 79.3210%, Time: 78.8168s\n",
      "Epoch: 18/30\n",
      "Epoch : 017, Training: Loss: 0.2832, Accuracy: 88.0054%, \n",
      "\t\tValidation : Loss : 0.4115, Accuracy: 84.2593%, Time: 81.3254s\n",
      "Epoch: 19/30\n",
      "Epoch : 018, Training: Loss: 0.2829, Accuracy: 87.6685%, \n",
      "\t\tValidation : Loss : 0.3277, Accuracy: 83.3333%, Time: 83.0946s\n",
      "Epoch: 20/30\n",
      "Epoch : 019, Training: Loss: 0.2410, Accuracy: 89.2857%, \n",
      "\t\tValidation : Loss : 0.3001, Accuracy: 87.3457%, Time: 82.7106s\n",
      "Epoch: 21/30\n",
      "Epoch : 020, Training: Loss: 0.2434, Accuracy: 89.2857%, \n",
      "\t\tValidation : Loss : 0.3069, Accuracy: 86.4198%, Time: 84.2502s\n",
      "Epoch: 22/30\n",
      "Epoch : 021, Training: Loss: 0.2689, Accuracy: 88.5445%, \n",
      "\t\tValidation : Loss : 0.3256, Accuracy: 85.8025%, Time: 84.2732s\n",
      "Epoch: 23/30\n",
      "Epoch : 022, Training: Loss: 0.2493, Accuracy: 89.5553%, \n",
      "\t\tValidation : Loss : 0.2554, Accuracy: 87.0370%, Time: 89.5326s\n",
      "Epoch: 24/30\n",
      "Epoch : 023, Training: Loss: 0.2465, Accuracy: 89.8922%, \n",
      "\t\tValidation : Loss : 0.4191, Accuracy: 79.9383%, Time: 84.4262s\n",
      "Epoch: 25/30\n",
      "Epoch : 024, Training: Loss: 0.2349, Accuracy: 89.8248%, \n",
      "\t\tValidation : Loss : 0.2956, Accuracy: 86.4198%, Time: 79.8324s\n",
      "Epoch: 26/30\n",
      "Epoch : 025, Training: Loss: 0.2181, Accuracy: 90.9030%, \n",
      "\t\tValidation : Loss : 0.4603, Accuracy: 76.8519%, Time: 79.8212s\n",
      "Epoch: 27/30\n",
      "Epoch : 026, Training: Loss: 0.2181, Accuracy: 91.4420%, \n",
      "\t\tValidation : Loss : 0.2828, Accuracy: 84.5679%, Time: 77.9663s\n",
      "Epoch: 28/30\n",
      "Epoch : 027, Training: Loss: 0.2178, Accuracy: 90.7682%, \n",
      "\t\tValidation : Loss : 0.3388, Accuracy: 83.3333%, Time: 81.3545s\n",
      "Epoch: 29/30\n",
      "Epoch : 028, Training: Loss: 0.1939, Accuracy: 91.4420%, \n",
      "\t\tValidation : Loss : 0.3957, Accuracy: 82.4074%, Time: 80.8836s\n",
      "Epoch: 30/30\n",
      "Epoch : 029, Training: Loss: 0.2076, Accuracy: 91.1725%, \n",
      "\t\tValidation : Loss : 0.3476, Accuracy: 83.6420%, Time: 81.9350s\n"
     ]
    }
   ],
   "source": [
    "# 4. Train the model for 10 epochs\n",
    "\n",
    "num_epochs = 30\n",
    "trained_model, history = train_and_validate(model_conv, criterion, optimizer, num_epochs)"
   ]
  },
  {
   "cell_type": "code",
   "execution_count": 12,
   "id": "55f3a33e",
   "metadata": {},
   "outputs": [
    {
     "data": {
      "image/png": "[encoded data removed]",
      "text/plain": [
       "<Figure size 432x288 with 1 Axes>"
      ]
     },
     "metadata": {
      "needs_background": "light"
     },
     "output_type": "display_data"
    },
    {
     "data": {
      "image/png": "[encoded data removed]",
      "text/plain": [
       "<Figure size 432x288 with 1 Axes>"
      ]
     },
     "metadata": {
      "needs_background": "light"
     },
     "output_type": "display_data"
    }
   ],
   "source": [
    "# 5. Analyze the loss curve\n",
    "\n",
    "history = np.array(history)\n",
    "plt.plot(history[:,0:2])\n",
    "plt.legend(['Tr Loss', 'Val Loss'])\n",
    "plt.xlabel('Epoch Number')\n",
    "plt.ylabel('Loss')\n",
    "plt.ylim(0,3)\n",
    "# plt.savefig('cifar10_loss_curve.png')\n",
    "plt.show()\n",
    "\n",
    "# 6. Analyze the accuracy curve\n",
    "\n",
    "plt.plot(history[:,2:4])\n",
    "plt.legend(['Tr Accuracy', 'Val Accuracy'])\n",
    "plt.xlabel('Epoch Number')\n",
    "plt.ylabel('Accuracy')\n",
    "plt.ylim(0,1)\n",
    "# plt.savefig('cifar10_accuracy_curve.png')\n",
    "plt.show()"
   ]
  },
  {
   "cell_type": "code",
   "execution_count": 13,
   "id": "1b510bfc",
   "metadata": {},
   "outputs": [
    {
     "name": "stdout",
     "output_type": "stream",
     "text": [
      "Accuracy of the network on the     324 test images: 83 %\n"
     ]
    }
   ],
   "source": [
    "correct = 0\n",
    "total = 0\n",
    "# since we're not training, we don't need to calculate the gradients for our outputs\n",
    "with torch.no_grad():\n",
    "    for data in testloader:\n",
    "#         images, labels = data\n",
    "        images, labels = data[0].to(device), data[1].to(device)\n",
    "        # calculate outputs by running images through the network\n",
    "#         images = images.view(images.size(0), -1)\n",
    "        outputs = model_conv(images)\n",
    "        # the class with the highest energy is what we choose as prediction\n",
    "        _, predicted = torch.max(outputs.data, 1)\n",
    "        total += labels.size(0)\n",
    "        correct += (predicted == labels).sum().item()\n",
    "\n",
    "print(f'Accuracy of the network on the {test_data_size:7d} test images: {100 * correct // total} %')"
   ]
  },
  {
   "cell_type": "code",
   "execution_count": 14,
   "id": "a9254d87",
   "metadata": {},
   "outputs": [
    {
     "name": "stdout",
     "output_type": "stream",
     "text": [
      "Accuracy for class: down     is 91.6 %\n",
      "Accuracy for class: up       is 76.5 %\n"
     ]
    }
   ],
   "source": [
    "# prepare to count predictions for each class\n",
    "correct_pred = {classname: 0 for classname in os.listdir(train_directory)}\n",
    "total_pred = {classname: 0 for classname in os.listdir(train_directory)}\n",
    "\n",
    "# again no gradients needed\n",
    "with torch.no_grad():\n",
    "    for data in testloader:\n",
    "        images, labels = data[0].to(device), data[1].to(device)\n",
    "#         images = images.view(images.size(0), -1)\n",
    "        outputs = model_conv(images)\n",
    "        _, predictions = torch.max(outputs, 1)\n",
    "        # collect the correct predictions for each class\n",
    "        for label, prediction in zip(labels, predictions):\n",
    "            if label == prediction:\n",
    "                correct_pred[os.listdir(train_directory)[label]] += 1\n",
    "            total_pred[os.listdir(train_directory)[label]] += 1\n",
    "\n",
    "\n",
    "# print accuracy for each class\n",
    "for classname, correct_count in correct_pred.items():\n",
    "    accuracy = 100 * float(correct_count) / total_pred[classname]\n",
    "    print(f'Accuracy for class: {classname:8s} is {accuracy:.1f} %')"
   ]
  },
  {
   "cell_type": "code",
   "execution_count": 15,
   "id": "55c67199",
   "metadata": {},
   "outputs": [
    {
     "data": {
      "text/plain": [
       "<AxesSubplot:>"
      ]
     },
     "execution_count": 15,
     "metadata": {},
     "output_type": "execute_result"
    },
    {
     "data": {
      "image/png": "[encoded data removed]",
      "text/plain": [
       "<Figure size 1440x720 with 2 Axes>"
      ]
     },
     "metadata": {
      "needs_background": "light"
     },
     "output_type": "display_data"
    }
   ],
   "source": [
    "y_pred = []\n",
    "y_true = []\n",
    "\n",
    "# iterate over test data\n",
    "for inputs, labels in testloader:\n",
    "#         #reshape images so they can be fed to a nn.Linear()\n",
    "#         inputs = inputs.view(inputs.size(0), -1)\n",
    "        inputs, labels = inputs.to(device), labels.to(device)\n",
    "        output = model_conv(inputs) # Feed Network\n",
    "\n",
    "        output = (torch.max(torch.exp(output), 1)[1]).data.cpu().numpy()\n",
    "        y_pred.extend(output) # Save Prediction\n",
    "        \n",
    "        labels = labels.data.cpu().numpy()\n",
    "        y_true.extend(labels) # Save Truth\n",
    "\n",
    "\n",
    "# Build confusion matrix\n",
    "cf_matrix = confusion_matrix(y_true, y_pred)\n",
    "df_cm = pd.DataFrame(cf_matrix/np.sum(cf_matrix) *10, index = [i for i in classes],\n",
    "                     columns = [i for i in classes])\n",
    "plt.figure(figsize = (20,10))\n",
    "sn.heatmap(df_cm, annot=True)\n",
    "#plt.savefig('outputQ2.png')"
   ]
  },
  {
   "cell_type": "code",
   "execution_count": null,
   "id": "7ff0a4c5",
   "metadata": {},
   "outputs": [],
   "source": []
  }
 ],
 "metadata": {
  "kernelspec": {
   "display_name": "Python 3 (ipykernel)",
   "language": "python",
   "name": "python3"
  },
  "language_info": {
   "codemirror_mode": {
    "name": "ipython",
    "version": 3
   },
   "file_extension": ".py",
   "mimetype": "text/x-python",
   "name": "python",
   "nbconvert_exporter": "python",
   "pygments_lexer": "ipython3",
   "version": "3.9.13"
  }
 },
 "nbformat": 4,
 "nbformat_minor": 5
}
